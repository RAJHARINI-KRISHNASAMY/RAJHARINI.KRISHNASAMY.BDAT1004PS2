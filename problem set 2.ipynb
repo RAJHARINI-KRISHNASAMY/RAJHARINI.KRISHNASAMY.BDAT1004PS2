{
 "cells": [
  {
   "cell_type": "markdown",
   "metadata": {},
   "source": [
    "# Question 1\n",
    "    What value is displayed when the last expression (a) is evaluated? Explain your\n",
    "    answer by indicating what happens in every executed statement"
   ]
  },
  {
   "cell_type": "code",
   "execution_count": 22,
   "metadata": {},
   "outputs": [
    {
     "name": "stdout",
     "output_type": "stream",
     "text": [
      "2\n",
      "4\n",
      "6\n",
      "6\n"
     ]
    }
   ],
   "source": [
    "\n",
    "a=0        #defining and declaring variable a=0 \n",
    "def b():   #function b() scope is only within the function so it cant access a \n",
    "    global a # inorder for the function variable to have access of a outside of function we use global keyword\n",
    "    a = cat(a)\n",
    "    print(a)\n",
    "        \n",
    "def cat(a):  #Since a has been made into global variable it can be accessed anywhere from the code and stored in global namespace \n",
    "    return a + 2\n",
    "\n",
    "b()\n",
    "b()\n",
    "b()\n",
    "print(a)"
   ]
  },
  {
   "cell_type": "markdown",
   "metadata": {},
   "source": [
    "    1.a=0 and a inside the function will be kept in different namespace.\n",
    "    2.We made the variable inside the function global because local variable inside the function\n",
    "    needs to have global to access the variable a=0 outside the function."
   ]
  },
  {
   "cell_type": "markdown",
   "metadata": {},
   "source": [
    "# Question 2\n",
    "\n",
    "    Function fileLength(), given to you, takes the name of a file as input and returns\n",
    "    the length of the file:\n",
    "    >>> fileLength('midterm.py')\n",
    "    284\n",
    "    >>> fileLength('idterm.py')\n",
    "    Traceback (most recent call last):\n",
    "    File \"<pyshell#34>\", line 1, in <module>\n",
    "     fileLength('idterm.py')\n",
    "    File \"/Users/me/midterm.py\", line 3, in fileLength\n",
    "     infile = open(filename)\n",
    "    FileNotFoundError: [Errno 2] No such file or directory:\n",
    "    'idterm.py'\n",
    "    As shown above, if the file cannot be found by the interpreter or if it cannot be read\n",
    "    as a text file, an exception will be raised. Modify function fileLength() so that a\n",
    "    friendly message is printed instead:\n",
    "    >>> fileLength('midterm.py')\n",
    "    358\n",
    "    >>> fileLength('idterm.py')\n",
    "    File idterm.py not found."
   ]
  },
  {
   "cell_type": "code",
   "execution_count": 26,
   "metadata": {},
   "outputs": [
    {
     "name": "stdout",
     "output_type": "stream",
     "text": [
      "102\n",
      "Given file blood_type1.txt is not found\n"
     ]
    }
   ],
   "source": [
    "def file_length(file_name):\n",
    "    try:                      # any code inside try is handled by given exception when thrown error\n",
    "        file = open(file_name)# default mode is read only mode\n",
    "        contents = file.read()\n",
    "        file.close()\n",
    "        print(len(contents))\n",
    "    except FileNotFoundError:\n",
    "        print(\"Given file \"+file_name+\" is not found\")# will be handled when the file is not found\n",
    "        \n",
    "file_length(\"blood_type.txt\")\n",
    "file_length(\"blood_type1.txt\")"
   ]
  },
  {
   "cell_type": "markdown",
   "metadata": {},
   "source": [
    "# Question 3\n",
    "\n",
    "    Write a class named Marsupial that can be used as shown below:\n",
    "    >>> m = Marsupial()\n",
    "    >>> m.put_in_pouch('doll')\n",
    "    >>> m.put_in_pouch('firetruck')\n",
    "    >>> m.put_in_pouch('kitten')\n",
    "    >>> m.pouch_contents()\n",
    "    ['doll', 'firetruck', 'kitten']\n",
    "    Now write a class named Kangaroo as a subclass of Marsupial that inherits all the\n",
    "    attributes of Marsupial and also:\n",
    "    a. extends the Marsupial __init__ constructor to take, as input, the\n",
    "    coordinates x and y of the Kangaroo object,\n",
    "    b. supports method jump that takes number values dx and dy as input and\n",
    "    moves the kangaroo by dx units along the x-axis and by dy units along the yaxis, and\n",
    "    c. overloads the __str__ operator so it behaves as shown below.\n",
    "    >>> k = Kangaroo(0,0)\n",
    "    >>> print(k)\n",
    "    I am a Kangaroo located at coordinates (0,0)\n",
    "    >>> k.put_in_pouch('doll')\n",
    "    >>> k.put_in_pouch('firetruck')\n",
    "    >>> k.put_in_pouch('kitten')\n",
    "    >>> k.pouch_contents()\n",
    "    ['doll', 'firetruck', 'kitten']\n",
    "    >>> k.jump(1,0)\n",
    "    >>> k.jump(1,0)\n",
    "    >>> k.jump(1,0)\n",
    "    >>> print(k)\n",
    "    I am a Kangaroo located at coordinates (3,0)\n"
   ]
  },
  {
   "cell_type": "code",
   "execution_count": 234,
   "metadata": {},
   "outputs": [
    {
     "name": "stdout",
     "output_type": "stream",
     "text": [
      "['doll', 'firetruck', 'kitten']\n",
      "['doll', 'firetruck', 'kitten']\n",
      "I am a Kangaroo located at coordinates (3,0)\n"
     ]
    }
   ],
   "source": [
    "class Marsupial:# Base class\n",
    "    def __init__(self):\n",
    "        self.items=\"\"\n",
    "        self.pouch=[]\n",
    "    def put_in_pouch(self,items):\n",
    "        self.pouch.append(items)\n",
    "    def pouch_contents(self):\n",
    "        print(self.pouch)\n",
    "class Kangaroo(Marsupial):# Kangaroo inheriting Marsupial as base/parent class\n",
    "    def __init__(self):\n",
    "        self.x=0;\n",
    "        self.y=0;\n",
    "        Marsupial.__init__(self)  # when initializing the child class we also need to initialize the base class \n",
    "    def jump(self,x1,y1):\n",
    "        self.x=self.x+x1\n",
    "        self.y=self.y+y1\n",
    "    def __str__(self):            # retuns the string representation of the object and when print() is used with object\n",
    "        return f\"I am a Kangaroo located at coordinates ({self.x},{self.y})\"\n",
    "obj=Marsupial()\n",
    "obj.put_in_pouch(\"doll\")\n",
    "obj.put_in_pouch(\"firetruck\")\n",
    "obj.put_in_pouch(\"kitten\")\n",
    "obj.pouch_contents()\n",
    "k=Kangaroo()\n",
    "k.put_in_pouch(\"doll\")\n",
    "k.put_in_pouch(\"firetruck\")\n",
    "k.put_in_pouch(\"kitten\")\n",
    "k.pouch_contents()\n",
    "k.jump(1,0)\n",
    "k.jump(1,0)\n",
    "k.jump(1,0)\n",
    "print(k)"
   ]
  },
  {
   "cell_type": "markdown",
   "metadata": {},
   "source": [
    "# Question 4\n",
    "\n",
    "    Write function collatz() that takes a positive integer x as input and prints the\n",
    "    Collatz sequence starting at x. A Collatz sequence is obtained by repeatedly applying\n",
    "    this rule to the previous number x in the sequence:\n",
    "    x = {\n",
    "    𝑥/2 𝑖𝑓 𝑥 𝑖𝑠 𝑒𝑣𝑒𝑛\n",
    "    3𝑥 + 1 𝑖𝑓 𝑥 𝑖𝑠 𝑜𝑑𝑑\n",
    "    Your function should stop when the sequence gets to number 1. Your\n",
    "    implementation must be recursive, without any loops."
   ]
  },
  {
   "cell_type": "code",
   "execution_count": 240,
   "metadata": {},
   "outputs": [
    {
     "name": "stdout",
     "output_type": "stream",
     "text": [
      "10\n",
      "5\n",
      "16\n",
      "8\n",
      "4\n",
      "2\n",
      "1\n"
     ]
    }
   ],
   "source": [
    "def collatz(x):\n",
    "    if x==1:\n",
    "        print(int(x)) # this is the base case of recursive function\n",
    "        return 1\n",
    "    elif x%2==0:\n",
    "        print(x)\n",
    "        return collatz(int(x/2))# f(x) >> 𝑥/2 𝑖𝑓 𝑥 𝑖𝑠 𝑒𝑣𝑒𝑛\n",
    "    else:\n",
    "        print(x)\n",
    "        return collatz(int(3*x+1))#f(x) >> 3𝑥 + 1 𝑖𝑓 𝑥 𝑖𝑠 𝑜𝑑𝑑\n",
    "n=collatz(10)        "
   ]
  },
  {
   "cell_type": "markdown",
   "metadata": {},
   "source": [
    "# Question 5\n",
    "\n",
    "    Write a recursive method binary() that takes a non-negative\n",
    "    integer n and prints the binary representation of integer n."
   ]
  },
  {
   "cell_type": "code",
   "execution_count": 9,
   "metadata": {},
   "outputs": [
    {
     "data": {
      "text/plain": [
       "'1010'"
      ]
     },
     "execution_count": 9,
     "metadata": {},
     "output_type": "execute_result"
    }
   ],
   "source": [
    "def binary(x,s):\n",
    "    if x==1:\n",
    "        return \"1\"+s # base case of the recursive function\n",
    "    elif x%2==0:\n",
    "        return binary(x/2,\"0\"+s) # appends 0 to the front of the existing string when the number is dividable by 2\n",
    "    else:\n",
    "        return binary((x-1)/2,\"1\"+s) #appends 1 to the front of existing string when the number is not dividable by 2\n",
    "binary(10,\"\")"
   ]
  },
  {
   "cell_type": "markdown",
   "metadata": {},
   "source": [
    "# Question 6\n",
    "\n",
    "    Implement a class named HeadingParser that can be used to parse an HTML\n",
    "    document, and retrieve and print all the headings in the document. You should\n",
    "    implement your class as a subclass of HTMLParser, defined in Standard Library\n",
    "    module html.parser. When fed a string containing HTML code, your class should\n",
    "    print the headings, one per line and in the order in which they appear in the\n",
    "    document. Each heading should be indented as follows: an h1 heading should have\n",
    "    indentation 0, and h2 heading should have indentation 1, etc. Test your\n",
    "    implementation using w3c.html.\n"
   ]
  },
  {
   "cell_type": "code",
   "execution_count": 24,
   "metadata": {},
   "outputs": [
    {
     "name": "stdout",
     "output_type": "stream",
     "text": [
      "\tTutorialspoint\n",
      "\t\tHeading 2\n",
      "\t\t\tHeading 3\n"
     ]
    }
   ],
   "source": [
    "from html.parser import HTMLParser\n",
    "class parser(HTMLParser):         # inheriting HTMLParser as base class\n",
    "    Heading=False                 # Boolean value to know whether its heading tag <h> or not\n",
    "    def handle_starttag(self, tag, attrs):\n",
    "        if(len(tag)==2 and tag[0]=='h'):# checks and allows only heading tag values\n",
    "            self.Heading=True\n",
    "            n=int(tag[1])         # extract the order of the heading tag \n",
    "            while n>0:\n",
    "                print(\"\\t\",end=\"\") # and space according to the order\n",
    "                n=n-1\n",
    "    def handle_data(self,data):\n",
    "        if self.Heading:\n",
    "            print(data)         #prints only if its a heading tag\n",
    "    def handle_endtag(self,tag):\n",
    "        if self.Heading:\n",
    "            self.Heading=False  # finished parsing header tag <\\h> and sets header check to false\n",
    "        \n",
    "file=open(\"h.html\")\n",
    "content=file.read()\n",
    "file.close()  \n",
    "p = parser()\n",
    "p.feed(content)"
   ]
  },
  {
   "cell_type": "markdown",
   "metadata": {},
   "source": [
    "# Question 7\n",
    "\n",
    "    Implement recursive function webdir() that takes as input: a URL (as a string) and\n",
    "    non-negative integers depth and indent. Your function should visit every web\n",
    "    page reachable from the starting URL web page in depth clicks or less, and print\n",
    "    each web page's URL. As shown below, indentation, specified by indent, should\n",
    "    be used to indicate the depth of a URL."
   ]
  },
  {
   "cell_type": "markdown",
   "metadata": {},
   "source": [
    "### USED TO PARSE HTML CONTENT"
   ]
  },
  {
   "cell_type": "code",
   "execution_count": 21,
   "metadata": {},
   "outputs": [],
   "source": [
    "import re\n",
    "from urllib.request import urlopen\n",
    "from html.parser import HTMLParser\n",
    "class parser(HTMLParser):\n",
    "                           # Parser class will get all the links in the given url in a list form\n",
    "    def __init__(self):   \n",
    "        HTMLParser.__init__(self)\n",
    "        self.url_link=False # to check if the tag is <a>\n",
    "        self.link_lst=[]\n",
    "    def handle_starttag(self, tag, attrs):\n",
    "        if(len(tag)==1 and tag=='a'):           # to check if the tag is a  \n",
    "            if(attrs[0][0]==\"href\"):              # to extract only the list with href \n",
    "                str1=re.search(\"http\",attrs[0][1])#and to extract values with http links with absolute addressing and omit others\n",
    "                if str1:\n",
    "                    self.url_link=True\n",
    "                    self.link_lst.append(attrs[0][1])# appends parsed link to the link_list\n",
    "                    \n",
    "    def handle_endtag(self,tag):\n",
    "        if self.url_link:              #made false when parsing the end tag of <\\a>\n",
    "            self.url_link=False   \n",
    "    "
   ]
  },
  {
   "cell_type": "markdown",
   "metadata": {},
   "source": [
    "### RECURSIVE FUNCTION TO PRINT URL OF THE GIVEN WEBPAGE"
   ]
  },
  {
   "cell_type": "code",
   "execution_count": 22,
   "metadata": {},
   "outputs": [],
   "source": [
    "def return_obj():\n",
    "    return parser()\n",
    "def webdir(url_list,depth,intend):      # gets the base url, depth and intend from the user \n",
    "    if depth==0:\n",
    "        for i in url_list:\n",
    "            for j in range(intend):\n",
    "                print(\"\\t\",end=\"\")\n",
    "            print(i)\n",
    "        return\n",
    "    else:    \n",
    "        for i in url_list:       \n",
    "            url=i\n",
    "            for i in range(intend):        #contains list of url's from a web page\n",
    "                print(\"\\t\",end=\"\")\n",
    "            print(url)\n",
    "            page = urlopen(url)                      # page.read() will provide return vale in byte form\n",
    "            html_bytes=page.read()\n",
    "            html_content=html_bytes.decode(\"UTF-8\")#  we use decode method to convert byte to string form\n",
    "            obj=return_obj()                # creats instance of parser class and passes the html content of the url\n",
    "            obj.feed(html_content)      # feed() is a method in base class HTMLParser use to pass the html content to parse\n",
    "            l=obj.link_lst\n",
    "            webdir(l,depth-1,intend+1)   "
   ]
  },
  {
   "cell_type": "code",
   "execution_count": 23,
   "metadata": {},
   "outputs": [
    {
     "name": "stdout",
     "output_type": "stream",
     "text": [
      "file:///C:/Users/HARINI/Desktop/workspace/h.html\n",
      "\thttps://www.guru99.com/\n",
      "\t\thttps://bit.ly/2DyN5A8\n",
      "\t\thttps://bit.ly/2DyN5A8\n",
      "\t\thttps://bit.ly/3ewmaVP\n",
      "\t\thttps://bit.ly/3ewmaVP\n",
      "\t\thttp://guru99.link/recommends-kobiton\n",
      "\t\thttp://guru99.link/recommends-kobiton\n",
      "\t\thttps://www.facebook.com/guru99com/\n",
      "\t\thttps://twitter.com/guru99com\n",
      "\t\thttps://www.linkedin.com/company/guru99/\n",
      "\t\thttps://www.youtube.com/channel/UC19i1XD6k88KqHlET8atqFQ\n",
      "\t\thttps://forms.aweber.com/form/46/724807646.htm\n",
      "\thttps://www.w3schools.com\n",
      "\t\thttps://mypage.w3schools.com/mypage/index.php\n",
      "\t\thttps://mypage.w3schools.com/mypage/login.php?logintyp=1\n",
      "\t\thttps://mypage.w3schools.com/mypage/forgot_password.php\n"
     ]
    }
   ],
   "source": [
    "url=[\"file:///C:/Users/HARINI/Desktop/workspace/h.html\"]\n",
    "webdir(url,2,0)"
   ]
  },
  {
   "cell_type": "markdown",
   "metadata": {},
   "source": [
    "# Question 8\n",
    "\n",
    "    Write SQL queries on the below database table\n",
    "    \n",
    "    City| Country| Season| Temperature(C)|Rainfall(mm)\n",
    "    Mumbai| India| Winter| 24.8| 5.9\n",
    "    Mumbai| India| Spring| 28.4 |16.2\n",
    "    Mumbai| India |Summer |27.9 |1549.4\n",
    "    Mumbai| India| Fall| 27.6| 346.0\n",
    "    London|United Kingdom| Winter| 4.2 |207.7\n",
    "    London| United| Kingdom |Spring| 8.3| 169.6\n",
    "    London| United| Kingdom| Summer| 15.7| 157.0\n",
    "    London| United| Kingdom |Fall |10.4| 218.5\n",
    "    Cairo| Egypt| Winter| 13.6| 16.5\n",
    "    Cairo| Egypt |Spring| 20.7| 6.5\n",
    "    Cairo| Egypt| Summer| 27.7| 0.1\n",
    "    Cairo| Egypt| Fall| 22.2| 4.5 \n"
   ]
  },
  {
   "cell_type": "markdown",
   "metadata": {},
   "source": [
    "## All the temperature data."
   ]
  },
  {
   "cell_type": "code",
   "execution_count": 232,
   "metadata": {},
   "outputs": [
    {
     "name": "stdout",
     "output_type": "stream",
     "text": [
      "('Mumbai', 24.8)\n",
      "('Mumbai', 28.4)\n",
      "('Mumbai', 27.9)\n",
      "('Mumbai', 27.6)\n",
      "('London', 4.2)\n",
      "('London', 8.3)\n",
      "('London', 15.7)\n",
      "('London', 10.4)\n",
      "('Cairo', 13.6)\n",
      "('Cairo', 20.7)\n",
      "('Cairo', 27.7)\n",
      "('Cairo', 22.2)\n"
     ]
    }
   ],
   "source": [
    "import sqlite3\n",
    "conn = sqlite3.connect(\"weather.db\")# creates database named weather when not found and opens the database when found\n",
    "c=conn.cursor()\n",
    "#c.execute(\"CREATE TABLE weather(city TEXT,country TEXT,season TEXT,tempt REAL,rainfall REAL)\")\n",
    "#lst=[('Cairo', 'Egypt', 'Spring', 20.7, 6.5 ),('Cairo', 'Egypt', 'Summer', 27.7, 0.1 ),('Cairo', 'Egypt', 'Fall', 22.2, 4.5)]\n",
    "#for i in lst:\n",
    "    #c.execute(\"INSERT INTO weather VALUES(?,?,?,?,?)\",i)\n",
    "c.execute(\"SELECT city,tempt FROM weather\")\n",
    "data=c.fetchall()\n",
    "for i in data:\n",
    "    print(i)\n"
   ]
  },
  {
   "cell_type": "markdown",
   "metadata": {},
   "source": [
    "## All the cities, but without repetition."
   ]
  },
  {
   "cell_type": "code",
   "execution_count": 233,
   "metadata": {},
   "outputs": [
    {
     "name": "stdout",
     "output_type": "stream",
     "text": [
      "('Mumbai',)\n",
      "('London',)\n",
      "('Cairo',)\n"
     ]
    }
   ],
   "source": [
    "c.execute(\"SELECT DISTINCT city FROM weather\")\n",
    "data=c.fetchall()\n",
    "for i in data:\n",
    "    print(i)"
   ]
  },
  {
   "cell_type": "markdown",
   "metadata": {},
   "source": [
    "## All the records for India"
   ]
  },
  {
   "cell_type": "code",
   "execution_count": 197,
   "metadata": {},
   "outputs": [
    {
     "name": "stdout",
     "output_type": "stream",
     "text": [
      "('Mumbai', 'India', 'Winter', 24.8, 5.9)\n",
      "('Mumbai', 'India', 'Spring', 28.4, 16.2)\n",
      "('Mumbai', 'India', 'Summer', 27.9, 1549.4)\n",
      "('Mumbai', 'India', 'Fall', 27.6, 346.0)\n"
     ]
    }
   ],
   "source": [
    "c.execute(\"SELECT * FROM weather WHERE country=='India'\")\n",
    "data=c.fetchall()\n",
    "for i in data:\n",
    "    print(i)\n"
   ]
  },
  {
   "cell_type": "markdown",
   "metadata": {},
   "source": [
    "## All the Fall records"
   ]
  },
  {
   "cell_type": "code",
   "execution_count": 201,
   "metadata": {},
   "outputs": [
    {
     "name": "stdout",
     "output_type": "stream",
     "text": [
      "('Mumbai', 'India', 'Fall', 27.6, 346.0)\n",
      "('London', 'United Kingdom', 'Fall', 10.4, 218.5)\n",
      "('Cairo', 'Egypt', 'Fall', 22.2, 4.5)\n"
     ]
    }
   ],
   "source": [
    "c.execute(\"SELECT * FROM weather WHERE season=='Fall'\")\n",
    "data=c.fetchall()\n",
    "for i in data:\n",
    "    print(i)"
   ]
  },
  {
   "cell_type": "markdown",
   "metadata": {},
   "source": [
    "## The city, country, and season for which the average rainfall is between 200 and 400 millimeters."
   ]
  },
  {
   "cell_type": "code",
   "execution_count": 202,
   "metadata": {},
   "outputs": [
    {
     "name": "stdout",
     "output_type": "stream",
     "text": [
      "('Mumbai', 'India', 'Fall')\n",
      "('London', 'United Kingdom', 'Winter')\n",
      "('London', 'United Kingdom', 'Fall')\n"
     ]
    }
   ],
   "source": [
    "c.execute(\"SELECT city,country,season FROM weather WHERE rainfall>=200 AND rainfall<=400\")\n",
    "data=c.fetchall()\n",
    "for i in data:\n",
    "    print(i)"
   ]
  },
  {
   "cell_type": "markdown",
   "metadata": {},
   "source": [
    "## The city and country for which the average Fall temperature is above 20 degrees, in increasing temperature order."
   ]
  },
  {
   "cell_type": "code",
   "execution_count": 203,
   "metadata": {},
   "outputs": [
    {
     "name": "stdout",
     "output_type": "stream",
     "text": [
      "('Mumbai', 'India')\n",
      "('Cairo', 'Egypt')\n"
     ]
    }
   ],
   "source": [
    "c.execute(\"SELECT city,country FROM weather WHERE season=='Fall' AND tempt>20 ORDER BY tempt DESC\")\n",
    "data=c.fetchall()\n",
    "for i in data:\n",
    "    print(i)\n"
   ]
  },
  {
   "cell_type": "markdown",
   "metadata": {},
   "source": [
    "## The total annual rainfall for Cairo."
   ]
  },
  {
   "cell_type": "code",
   "execution_count": 216,
   "metadata": {},
   "outputs": [
    {
     "name": "stdout",
     "output_type": "stream",
     "text": [
      "[(27.6,)]\n"
     ]
    }
   ],
   "source": [
    "c.execute(\"SELECT SUM(rainfall) FROM weather WHERE city='Cairo'\")\n",
    "data=c.fetchall()\n",
    "print(data)"
   ]
  },
  {
   "cell_type": "markdown",
   "metadata": {},
   "source": [
    "## The total rainfall for each season."
   ]
  },
  {
   "cell_type": "code",
   "execution_count": 219,
   "metadata": {},
   "outputs": [
    {
     "name": "stdout",
     "output_type": "stream",
     "text": [
      "[('Fall', 569.0), ('Spring', 192.29999999999998), ('Summer', 1706.5), ('Winter', 230.1)]\n"
     ]
    }
   ],
   "source": [
    "c.execute(\"SELECT season,SUM(rainfall) FROM weather GROUP BY season\")\n",
    "data=c.fetchall()\n",
    "print(data)"
   ]
  },
  {
   "cell_type": "code",
   "execution_count": 220,
   "metadata": {},
   "outputs": [],
   "source": [
    "conn.commit() # saves the changes made in the database\n",
    "conn.close()   #closes the connection with the database"
   ]
  },
  {
   "cell_type": "markdown",
   "metadata": {},
   "source": [
    "# QUESTION 9\n",
    "\n",
    "        Suppose list words is defined as follows:\n",
    "        >>> words = ['The', 'quick', 'brown', 'fox', 'jumps', 'over',\n",
    "        'the', 'lazy', 'dog']\n",
    "        \n",
    "        Write list comprehension expressions that use list words and generate the following\n",
    "        lists:\n",
    "        a) ['THE', 'QUICK', 'BROWN', 'FOX', 'JUMPS', 'OVER', 'THE',\n",
    "        'LAZY', 'DOG']\n",
    "        b) ['the', 'quick', 'brown', 'fox', 'jumps', 'over', 'the',\n",
    "        'lazy', 'dog']\n",
    "        c) [3, 5, 5, 3, 5, 4, 3, 4, 3] (the list of lengths of words in list\n",
    "        words).\n",
    "        d) [['THE', 'the', 3], ['QUICK', 'quick', 5], ['BROWN',\n",
    "        'brown', 5], ['FOX', 'fox', 3], ['JUMPS', 'jumps', 5],\n",
    "        ['OVER', 'over', 4], ['THE', 'the', 3], ['LAZY', 'lazy',\n",
    "        4], ['DOG', 'dog', 3]] (the list containing a list for every word of list\n",
    "        words, where each list contains the word in uppercase and lowercase and the\n",
    "        length of the word.)\n",
    "        e) ['The', 'quick', 'brown', 'fox', 'jumps', 'over', 'the',\n",
    "        'lazy', 'dog'] (the list of words in list words containing 4 or more\n",
    "        characters.)"
   ]
  },
  {
   "cell_type": "code",
   "execution_count": 231,
   "metadata": {},
   "outputs": [
    {
     "name": "stdout",
     "output_type": "stream",
     "text": [
      "UPPER CASE OF THE ELEMENTS IN THE LIST:\n",
      "\n",
      " ['THE', 'QUICK', 'BROWN', 'FOX', 'JUMPS', 'OVER', 'THE', 'LAZY', 'DOG'] \n",
      "\n",
      "LOWER CASE OF THE ELEMENTS IN THE LIST:\n",
      "\n",
      " ['the', 'quick', 'brown', 'fox', 'jumps', 'over', 'the', 'lazy', 'dog'] \n",
      "\n",
      "LENGTH OF THE ELEMENTS IN THE LIST:\n",
      "\n",
      " [3, 5, 5, 3, 5, 4, 3, 4, 3] \n",
      "\n",
      "COMBINATION OF UPPER CASE,LOWER CASE AND LENGTH OF THE ELEMENTS IN THE LIST:\n",
      "\n",
      " [['THE', 'the', 3], ['QUICK', 'quick', 5], ['BROWN', 'brown', 5], ['FOX', 'fox', 3], ['JUMPS', 'jumps', 5], ['OVER', 'over', 4], ['THE', 'the', 3], ['LAZY', 'lazy', 4], ['DOG', 'dog', 3]] \n",
      "\n",
      "LETTERS WITH LENGTH GREATER THAN 4 IN THE LIST:\n",
      "\n",
      " ['quick', 'brown', 'jumps', 'over', 'lazy'] \n",
      "\n"
     ]
    }
   ],
   "source": [
    "words = ['The', 'quick', 'brown', 'fox', 'jumps', 'over','the', 'lazy', 'dog']\n",
    "up_words=[]\n",
    "low_words=[]\n",
    "len_words=[]\n",
    "com_words=[]\n",
    "gre_words=[]\n",
    "for i in words:\n",
    "    up_words.append(i.upper())                        # string.upper() converts all the characters in a string to capital letter\n",
    "print(\"UPPER CASE OF THE ELEMENTS IN THE LIST:\\n\\n\",up_words,\"\\n\")\n",
    "for i in words:\n",
    "    low_words.append(i.lower())                       # string.lower() converts all the characters in a string to lower case letter\n",
    "print(\"LOWER CASE OF THE ELEMENTS IN THE LIST:\\n\\n\",low_words,\"\\n\")\n",
    "for i in words:\n",
    "    len_words.append(len(i))                          # len() keyword measures length of the string\n",
    "print(\"LENGTH OF THE ELEMENTS IN THE LIST:\\n\\n\",len_words,\"\\n\")\n",
    "for i in words:\n",
    "    com_words.append([i.upper(),i.lower(),len(i)])\n",
    "print(\"COMBINATION OF UPPER CASE,LOWER CASE AND LENGTH OF THE ELEMENTS IN THE LIST:\\n\\n\",com_words,\"\\n\")\n",
    "for i in words:\n",
    "    if len(i)>=4:\n",
    "        gre_words.append(i)\n",
    "print(\"LETTERS WITH LENGTH GREATER THAN 4 IN THE LIST:\\n\\n\",gre_words,\"\\n\")"
   ]
  }
 ],
 "metadata": {
  "kernelspec": {
   "display_name": "Python 3",
   "language": "python",
   "name": "python3"
  },
  "language_info": {
   "codemirror_mode": {
    "name": "ipython",
    "version": 3
   },
   "file_extension": ".py",
   "mimetype": "text/x-python",
   "name": "python",
   "nbconvert_exporter": "python",
   "pygments_lexer": "ipython3",
   "version": "3.8.5"
  }
 },
 "nbformat": 4,
 "nbformat_minor": 4
}
